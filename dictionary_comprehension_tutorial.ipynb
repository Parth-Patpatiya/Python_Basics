{
 "cells": [
  {
   "cell_type": "markdown",
   "id": "d8941a9a",
   "metadata": {},
   "source": [
    "# Dictionary Comprehension in Python\n",
    "This notebook contains a set of questions and answers to help you master **dictionary comprehension** in Python.\n",
    "- **Basic dictionary comprehension**\n",
    "- **Conditional dictionary comprehension**\n",
    "- **Transforming dictionaries**\n",
    "- **Nested dictionary comprehension**\n",
    "Let's begin! 🚀"
   ]
  },
  {
   "cell_type": "markdown",
   "id": "bb96e7ef",
   "metadata": {},
   "source": [
    "### Q1: Create a dictionary where the keys are numbers from 1 to 5, and the values are their squares.\n",
    "_Hint: Use dictionary comprehension with `range()`._"
   ]
  },
  {
   "cell_type": "code",
   "execution_count": null,
   "id": "989789c6",
   "metadata": {},
   "outputs": [],
   "source": [
    "# Answer 1\n",
    "squares_dict = {x: x**2 for x in range(1, 6)}\n",
    "print('Squares Dictionary:', squares_dict)"
   ]
  },
  {
   "cell_type": "markdown",
   "id": "3745bf9b",
   "metadata": {},
   "source": [
    "### Q2: Create a dictionary of even numbers from 1 to 10 and their cubes.\n",
    "_Hint: Use an `if` condition inside the comprehension._"
   ]
  },
  {
   "cell_type": "code",
   "execution_count": null,
   "id": "3501a1bf",
   "metadata": {},
   "outputs": [],
   "source": [
    "# Answer 2\n",
    "even_cubes = {x: x**3 for x in range(1, 11) if x % 2 == 0}\n",
    "print('Even Cubes Dictionary:', even_cubes)"
   ]
  },
  {
   "cell_type": "markdown",
   "id": "848ee0c8",
   "metadata": {},
   "source": [
    "### Q3: Convert all the keys and values of a dictionary to uppercase.\n",
    "_Hint: Use `dict.items()` in the comprehension._"
   ]
  },
  {
   "cell_type": "code",
   "execution_count": null,
   "id": "86a0dede",
   "metadata": {},
   "outputs": [],
   "source": [
    "# Answer 3\n",
    "words = {'hello': 'world', 'python': 'rocks'}\n",
    "uppercase_dict = {k.upper(): v.upper() for k, v in words.items()}\n",
    "print('Uppercase Dictionary:', uppercase_dict)"
   ]
  },
  {
   "cell_type": "markdown",
   "id": "fc6113d3",
   "metadata": {},
   "source": [
    "### Q4: Swap the keys and values of a given dictionary.\n",
    "_Hint: Use `dict.items()` in the comprehension._"
   ]
  },
  {
   "cell_type": "code",
   "execution_count": null,
   "id": "ed0394f9",
   "metadata": {},
   "outputs": [],
   "source": [
    "# Answer 4\n",
    "original_dict = {'a': 1, 'b': 2, 'c': 3}\n",
    "swapped_dict = {v: k for k, v in original_dict.items()}\n",
    "print('Swapped Dictionary:', swapped_dict)"
   ]
  },
  {
   "cell_type": "markdown",
   "id": "f6def75a",
   "metadata": {},
   "source": [
    "### Q5: Create a nested dictionary where the keys are numbers from 1 to 3, and the values are dictionaries containing squares of numbers from 1 to that key.\n",
    "_Hint: Use nested dictionary comprehension._"
   ]
  },
  {
   "cell_type": "code",
   "execution_count": null,
   "id": "0a50be7a",
   "metadata": {},
   "outputs": [],
   "source": [
    "# Answer 5\n",
    "nested_dict = {x: {y: y**2 for y in range(1, x+1)} for x in range(1, 4)}\n",
    "print('Nested Dictionary:', nested_dict)"
   ]
  }
 ],
 "metadata": {},
 "nbformat": 4,
 "nbformat_minor": 5
}