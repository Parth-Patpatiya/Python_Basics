{
 "cells": [
  {
   "cell_type": "markdown",
   "id": "15a51524",
   "metadata": {},
   "source": [
    "# Lambda Functions in Python\n",
    "This notebook contains a set of questions and answers to help you master **lambda functions** in Python.\n",
    "- **Basic lambda functions**\n",
    "- **Using lambda with `map()`, `filter()`, and `reduce()`**\n",
    "- **Conditional lambda expressions**\n",
    "- **Advanced lambda examples**\n",
    "Let's get started! 🚀"
   ]
  },
  {
   "cell_type": "markdown",
   "id": "e5f2fc6c",
   "metadata": {},
   "source": [
    "### Q1: Create a lambda function to add 10 to a given number.\n",
    "_Hint: Use `lambda` keyword to define the function._"
   ]
  },
  {
   "cell_type": "code",
   "execution_count": null,
   "id": "cc7535be",
   "metadata": {},
   "outputs": [],
   "source": [
    "# Answer 1\n",
    "add_10 = lambda x: x + 10\n",
    "print('Result:', add_10(5))"
   ]
  },
  {
   "cell_type": "markdown",
   "id": "6c713235",
   "metadata": {},
   "source": [
    "### Q2: Use `map()` with a lambda function to double each element in a list.\n",
    "_Hint: Pass the lambda function and list to `map()`._"
   ]
  },
  {
   "cell_type": "code",
   "execution_count": null,
   "id": "a1446980",
   "metadata": {},
   "outputs": [],
   "source": [
    "# Answer 2\n",
    "nums = [1, 2, 3, 4, 5]\n",
    "doubled = list(map(lambda x: x * 2, nums))\n",
    "print('Doubled List:', doubled)"
   ]
  },
  {
   "cell_type": "markdown",
   "id": "ff1bcfc8",
   "metadata": {},
   "source": [
    "### Q3: Use `filter()` with a lambda function to get even numbers from a list.\n",
    "_Hint: Use a condition inside the lambda function._"
   ]
  },
  {
   "cell_type": "code",
   "execution_count": null,
   "id": "30ef9b2b",
   "metadata": {},
   "outputs": [],
   "source": [
    "# Answer 3\n",
    "nums = [1, 2, 3, 4, 5, 6, 7, 8, 9, 10]\n",
    "even_nums = list(filter(lambda x: x % 2 == 0, nums))\n",
    "print('Even Numbers:', even_nums)"
   ]
  },
  {
   "cell_type": "markdown",
   "id": "9141b71c",
   "metadata": {},
   "source": [
    "### Q4: Use `reduce()` with a lambda function to calculate the product of elements in a list.\n",
    "_Hint: Import `reduce` from `functools`._"
   ]
  },
  {
   "cell_type": "code",
   "execution_count": null,
   "id": "780702c8",
   "metadata": {},
   "outputs": [],
   "source": [
    "# Answer 4\n",
    "from functools import reduce\n",
    "nums = [1, 2, 3, 4, 5]\n",
    "product = reduce(lambda x, y: x * y, nums)\n",
    "print('Product of List:', product)"
   ]
  },
  {
   "cell_type": "markdown",
   "id": "a676b5c2",
   "metadata": {},
   "source": [
    "### Q5: Create a lambda function that returns 'Even' if a number is even and 'Odd' if a number is odd.\n",
    "_Hint: Use a conditional (ternary) expression._"
   ]
  },
  {
   "cell_type": "code",
   "execution_count": null,
   "id": "9455f760",
   "metadata": {},
   "outputs": [],
   "source": [
    "# Answer 5\n",
    "even_odd = lambda x: 'Even' if x % 2 == 0 else 'Odd'\n",
    "print('Result:', even_odd(7))"
   ]
  }
 ],
 "metadata": {},
 "nbformat": 4,
 "nbformat_minor": 5
}