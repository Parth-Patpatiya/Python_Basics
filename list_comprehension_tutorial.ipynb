{
 "cells": [
  {
   "cell_type": "markdown",
   "id": "e1085257",
   "metadata": {},
   "source": [
    "# List Comprehension in Python\n",
    "This notebook covers the basics and advanced usage of list comprehension in Python.\n",
    "- **Basic list comprehension**\n",
    "- **Conditional list comprehension**\n",
    "- **Nested list comprehension**\n",
    "- **Examples with strings, integers, and iterables**\n",
    "Let's get started! 🚀"
   ]
  },
  {
   "cell_type": "code",
   "execution_count": null,
   "id": "8787db75",
   "metadata": {},
   "outputs": [],
   "source": [
    "# Basic List Comprehension\n",
    "# Create a list of squares of numbers from 1 to 10\n",
    "squares = [x**2 for x in range(1, 11)]\n",
    "print('Squares:', squares)"
   ]
  },
  {
   "cell_type": "code",
   "execution_count": null,
   "id": "3425cd71",
   "metadata": {},
   "outputs": [],
   "source": [
    "# Conditional List Comprehension\n",
    "# Create a list of even numbers from 1 to 20\n",
    "even_numbers = [x for x in range(1, 21) if x % 2 == 0]\n",
    "print('Even Numbers:', even_numbers)"
   ]
  },
  {
   "cell_type": "code",
   "execution_count": null,
   "id": "34702528",
   "metadata": {},
   "outputs": [],
   "source": [
    "# List Comprehension with Strings\n",
    "# Create a list of lengths of words in a sentence\n",
    "sentence = 'List comprehension is powerful in Python'\n",
    "word_lengths = [len(word) for word in sentence.split()]\n",
    "print('Word Lengths:', word_lengths)"
   ]
  },
  {
   "cell_type": "code",
   "execution_count": null,
   "id": "10bfea2f",
   "metadata": {},
   "outputs": [],
   "source": [
    "# Nested List Comprehension\n",
    "# Create a 3x3 matrix using nested list comprehension\n",
    "matrix = [[j for j in range(3)] for i in range(3)]\n",
    "print('Matrix:', matrix)"
   ]
  },
  {
   "cell_type": "code",
   "execution_count": null,
   "id": "4876e2e0",
   "metadata": {},
   "outputs": [],
   "source": [
    "# Advanced List Comprehension with Conditions\n",
    "# Create a list of squares of even numbers from 1 to 10\n",
    "squares_of_even = [x**2 for x in range(1, 11) if x % 2 == 0]\n",
    "print('Squares of Even Numbers:', squares_of_even)"
   ]
  }
 ],
 "metadata": {},
 "nbformat": 4,
 "nbformat_minor": 5
}