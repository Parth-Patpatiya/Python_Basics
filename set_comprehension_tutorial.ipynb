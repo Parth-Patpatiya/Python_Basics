{
 "cells": [
  {
   "cell_type": "markdown",
   "id": "f16dae7e",
   "metadata": {},
   "source": [
    "# Set Comprehension in Python\n",
    "This notebook contains a set of questions and answers to help you master **set comprehension** in Python.\n",
    "- **Basic set comprehension**\n",
    "- **Conditional set comprehension**\n",
    "- **Transforming sets**\n",
    "- **Nested set comprehension**\n",
    "Let's get started! 🚀"
   ]
  },
  {
   "cell_type": "markdown",
   "id": "f17e7504",
   "metadata": {},
   "source": [
    "### Q1: Create a set of squares of numbers from 1 to 5.\n",
    "_Hint: Use `range()` inside a set comprehension._"
   ]
  },
  {
   "cell_type": "code",
   "execution_count": null,
   "id": "afef64f8",
   "metadata": {},
   "outputs": [],
   "source": [
    "# Answer 1\n",
    "squares_set = {x**2 for x in range(1, 6)}\n",
    "print('Squares Set:', squares_set)"
   ]
  },
  {
   "cell_type": "markdown",
   "id": "d105159c",
   "metadata": {},
   "source": [
    "### Q2: Create a set of even numbers from 1 to 10.\n",
    "_Hint: Use an `if` condition inside the comprehension._"
   ]
  },
  {
   "cell_type": "code",
   "execution_count": null,
   "id": "6db52c39",
   "metadata": {},
   "outputs": [],
   "source": [
    "# Answer 2\n",
    "even_set = {x for x in range(1, 11) if x % 2 == 0}\n",
    "print('Even Numbers Set:', even_set)"
   ]
  },
  {
   "cell_type": "markdown",
   "id": "fbcfc05f",
   "metadata": {},
   "source": [
    "### Q3: Create a set of uppercase versions of words in a list.\n",
    "_Hint: Use a list of words and apply `upper()`._"
   ]
  },
  {
   "cell_type": "code",
   "execution_count": null,
   "id": "f0fa8050",
   "metadata": {},
   "outputs": [],
   "source": [
    "# Answer 3\n",
    "words = ['hello', 'python', 'set', 'comprehension']\n",
    "uppercase_set = {word.upper() for word in words}\n",
    "print('Uppercase Set:', uppercase_set)"
   ]
  },
  {
   "cell_type": "markdown",
   "id": "8407dffa",
   "metadata": {},
   "source": [
    "### Q4: Create a set of unique characters from the word 'SETCOMPREHENSION'.\n",
    "_Hint: Use a string as the iterable._"
   ]
  },
  {
   "cell_type": "code",
   "execution_count": null,
   "id": "902c9e82",
   "metadata": {},
   "outputs": [],
   "source": [
    "# Answer 4\n",
    "char_set = {char for char in 'SETCOMPREHENSION'}\n",
    "print('Character Set:', char_set)"
   ]
  },
  {
   "cell_type": "markdown",
   "id": "2bdae1a9",
   "metadata": {},
   "source": [
    "### Q5: Create a set of tuples with pairs of numbers from 1 to 3.\n",
    "_Hint: Use nested comprehension._"
   ]
  },
  {
   "cell_type": "code",
   "execution_count": null,
   "id": "79389553",
   "metadata": {},
   "outputs": [],
   "source": [
    "# Answer 5\n",
    "nested_set = {(x, y) for x in range(1, 4) for y in range(1, 4)}\n",
    "print('Nested Set:', nested_set)"
   ]
  }
 ],
 "metadata": {},
 "nbformat": 4,
 "nbformat_minor": 5
}